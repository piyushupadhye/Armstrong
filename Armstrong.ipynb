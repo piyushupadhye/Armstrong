{
 "cells": [
  {
   "cell_type": "code",
   "execution_count": 11,
   "id": "afd8ecc6",
   "metadata": {},
   "outputs": [
    {
     "name": "stdout",
     "output_type": "stream",
     "text": [
      "No. is Armstrong\n"
     ]
    }
   ],
   "source": [
    "x=num=371\n",
    "total=0\n",
    "while x!=0:\n",
    "    digit=x%10\n",
    "    x=x//10\n",
    "    total=total+(digit**3)\n",
    "if total==num:\n",
    "    print('No. is Armstrong')\n",
    "else:\n",
    "    print('No. is not a Armstrong')"
   ]
  }
 ],
 "metadata": {
  "kernelspec": {
   "display_name": "Python 3 (ipykernel)",
   "language": "python",
   "name": "python3"
  },
  "language_info": {
   "codemirror_mode": {
    "name": "ipython",
    "version": 3
   },
   "file_extension": ".py",
   "mimetype": "text/x-python",
   "name": "python",
   "nbconvert_exporter": "python",
   "pygments_lexer": "ipython3",
   "version": "3.9.7"
  }
 },
 "nbformat": 4,
 "nbformat_minor": 5
}
